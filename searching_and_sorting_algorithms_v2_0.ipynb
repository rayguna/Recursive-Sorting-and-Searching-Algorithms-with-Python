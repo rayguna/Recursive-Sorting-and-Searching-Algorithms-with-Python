{
  "cells": [
    {
      "cell_type": "markdown",
      "id": "d894cb81",
      "metadata": {
        "id": "d894cb81"
      },
      "source": [
        "Ch 1"
      ]
    },
    {
      "cell_type": "code",
      "execution_count": null,
      "id": "7366ab39",
      "metadata": {
        "id": "7366ab39",
        "outputId": "65c4856d-b334-4738-8e9a-19d246ccd55b"
      },
      "outputs": [
        {
          "name": "stdout",
          "output_type": "stream",
          "text": [
            "8\n"
          ]
        }
      ],
      "source": [
        "def fibonacci(n):\n",
        "    \"\"\"\n",
        "    Recursively calculates the nth Fibonacci number.\n",
        "\n",
        "    Parameters:\n",
        "    n (int): The position in the Fibonacci sequence (starting from 0).\n",
        "\n",
        "    Returns:\n",
        "    int: The nth Fibonacci number.\n",
        "    \"\"\"\n",
        "\n",
        "    # Initialization:\n",
        "    # The function takes a single parameter n, which represents the index in the Fibonacci sequence.\n",
        "\n",
        "    # Base case:\n",
        "    # If n is 0 or 1, return n directly (since Fibonacci(0) = 0 and Fibonacci(1) = 1)\n",
        "    if n == 0 or n == 1:\n",
        "        return n\n",
        "\n",
        "    # Recursive step:\n",
        "    # Return the sum of the previous two Fibonacci numbers\n",
        "    return fibonacci(n - 1) + fibonacci(n - 2)\n",
        "\n",
        "# Example usage\n",
        "print(fibonacci(6))  # Output: 8"
      ]
    },
    {
      "cell_type": "code",
      "execution_count": null,
      "id": "f266b554",
      "metadata": {
        "id": "f266b554",
        "outputId": "f1ea8f99-7688-4ac0-d271-d35f7d626b66"
      },
      "outputs": [
        {
          "name": "stdout",
          "output_type": "stream",
          "text": [
            "13\n"
          ]
        }
      ],
      "source": [
        "def tribonacci(n):\n",
        "    \"\"\"\n",
        "    Recursively calculates the nth Tribonacci number.\n",
        "\n",
        "    Parameters:\n",
        "    n (int): The position in the Tribonacci sequence (starting from 0).\n",
        "\n",
        "    Returns:\n",
        "    int: The nth Tribonacci number.\n",
        "    \"\"\"\n",
        "\n",
        "    # Initialization:\n",
        "    # The function takes a single parameter n, representing the index in the Tribonacci sequence.\n",
        "\n",
        "    # Base case:\n",
        "    # If n is 0, 1, or 2, return 0, 1, or 1 respectively.\n",
        "    if n == 0:\n",
        "        return 0\n",
        "    if n == 1 or n == 2:\n",
        "        return 1\n",
        "\n",
        "    # Recursive step:\n",
        "    # Return the sum of the previous three Tribonacci numbers\n",
        "    return tribonacci(n - 1) + tribonacci(n - 2) + tribonacci(n - 3)\n",
        "\n",
        "# Example usage\n",
        "print(tribonacci(6))  # Output: 13"
      ]
    },
    {
      "cell_type": "code",
      "execution_count": null,
      "id": "50f9c94a",
      "metadata": {
        "id": "50f9c94a",
        "outputId": "f206cdc6-67ea-4666-f291-0a721797f0de"
      },
      "outputs": [
        {
          "name": "stdout",
          "output_type": "stream",
          "text": [
            "120\n"
          ]
        }
      ],
      "source": [
        "def factorial(n):\n",
        "    \"\"\"\n",
        "    Recursively calculates the factorial of a number.\n",
        "\n",
        "    Parameters:\n",
        "    n (int): A non-negative integer.\n",
        "\n",
        "    Returns:\n",
        "    int: The factorial of n (n!).\n",
        "    \"\"\"\n",
        "\n",
        "    # Initialization:\n",
        "    # The function takes a single parameter n, the number whose factorial is to be calculated.\n",
        "\n",
        "    # Base case:\n",
        "    # If n is 0 or 1, return 1 (by definition, 0! = 1! = 1)\n",
        "    if n == 0 or n == 1:\n",
        "        return 1\n",
        "\n",
        "    # Recursive step:\n",
        "    # Multiply n by the factorial of (n - 1)\n",
        "    return n * factorial(n - 1)\n",
        "\n",
        "# Example usage\n",
        "print(factorial(5))  # Output: 120"
      ]
    },
    {
      "cell_type": "code",
      "execution_count": null,
      "id": "dcc90eee",
      "metadata": {
        "id": "dcc90eee",
        "outputId": "139c4531-3006-4407-9e5e-4b716cf80446"
      },
      "outputs": [
        {
          "name": "stdout",
          "output_type": "stream",
          "text": [
            "55\n"
          ]
        }
      ],
      "source": [
        "def fibonacci_memo(n, memo={}):\n",
        "    \"\"\"\n",
        "    Calculates the nth Fibonacci number using memoization (top-down dynamic programming).\n",
        "\n",
        "    Parameters:\n",
        "    n (int): The index of the Fibonacci number to compute.\n",
        "\n",
        "    Returns:\n",
        "    int: The nth Fibonacci number.\n",
        "    \"\"\"\n",
        "\n",
        "    # Initialization:\n",
        "    # Use a dictionary (memo) to store previously computed Fibonacci numbers.\n",
        "\n",
        "    # Base cases:\n",
        "    # F(0) = 0, F(1) = 1\n",
        "    if n == 0:\n",
        "        return 0\n",
        "    if n == 1:\n",
        "        return 1\n",
        "\n",
        "    # Check if result already exists in memo\n",
        "    if n in memo:\n",
        "        return memo[n]\n",
        "\n",
        "    # Recursive step with memoization:\n",
        "    # Store the result in memo and return it\n",
        "    memo[n] = fibonacci_memo(n - 1, memo) + fibonacci_memo(n - 2, memo)\n",
        "    return memo[n]\n",
        "\n",
        "# Example usage\n",
        "print(fibonacci_memo(10))  # Output: 55"
      ]
    },
    {
      "cell_type": "code",
      "execution_count": null,
      "id": "6a63ae8c",
      "metadata": {
        "id": "6a63ae8c",
        "outputId": "207d4a7f-1fb7-473a-c48a-73b3d9d4d198"
      },
      "outputs": [
        {
          "name": "stdout",
          "output_type": "stream",
          "text": [
            "55\n"
          ]
        }
      ],
      "source": [
        "def fibonacci_dp(n):\n",
        "    \"\"\"\n",
        "    Calculates the nth Fibonacci number using dynamic programming (bottom-up approach).\n",
        "\n",
        "    Parameters:\n",
        "    n (int): The index of the Fibonacci number to compute.\n",
        "\n",
        "    Returns:\n",
        "    int: The nth Fibonacci number.\n",
        "    \"\"\"\n",
        "\n",
        "    # Initialization:\n",
        "    # Handle base cases\n",
        "    if n == 0:\n",
        "        return 0\n",
        "    if n == 1:\n",
        "        return 1\n",
        "\n",
        "    # Create an array to store Fibonacci values up to n\n",
        "    fib = [0] * (n + 1)\n",
        "    fib[0] = 0\n",
        "    fib[1] = 1\n",
        "\n",
        "    # Iteratively compute Fibonacci numbers\n",
        "    for i in range(2, n + 1):\n",
        "        fib[i] = fib[i - 1] + fib[i - 2]\n",
        "\n",
        "    return fib[n]\n",
        "\n",
        "# Example usage\n",
        "print(fibonacci_dp(10))  # Output: 55\n"
      ]
    },
    {
      "cell_type": "markdown",
      "id": "7903c280",
      "metadata": {
        "id": "7903c280"
      },
      "source": [
        "Ch 3"
      ]
    },
    {
      "cell_type": "code",
      "execution_count": null,
      "id": "400abaca",
      "metadata": {
        "id": "400abaca",
        "outputId": "75334880-3e36-4a22-d812-e7f69987df2d"
      },
      "outputs": [
        {
          "name": "stdout",
          "output_type": "stream",
          "text": [
            "[11, 12, 22, 25, 34, 64, 90]\n"
          ]
        }
      ],
      "source": [
        "def recursive_bubble_sort(arr, n=None):\n",
        "    \"\"\"\n",
        "    Recursively sorts an array using the Bubble Sort algorithm.\n",
        "\n",
        "    Parameters:\n",
        "    arr (list): The list of numbers to be sorted.\n",
        "    n (int, optional): The number of elements to consider in each recursive call.\n",
        "                       Defaults to the length of the array.\n",
        "\n",
        "    Returns:\n",
        "    list: The sorted version of the input array.\n",
        "    \"\"\"\n",
        "    if n is None:\n",
        "        n = len(arr)  # Set n to the initial length of the array\n",
        "\n",
        "    # Base case: if there's only one element, return the array\n",
        "    if n == 1:\n",
        "        return arr\n",
        "\n",
        "    # Perform one pass of bubble sort\n",
        "    for i in range(n - 1):\n",
        "        if arr[i] > arr[i + 1]:\n",
        "            arr[i], arr[i + 1] = arr[i + 1], arr[i]\n",
        "\n",
        "    # Recur for the remaining unsorted portion of the array\n",
        "    return recursive_bubble_sort(arr, n - 1)\n",
        "\n",
        "# Example usage\n",
        "arr = [64, 34, 25, 12, 22, 11, 90]\n",
        "sorted_arr = recursive_bubble_sort(arr)\n",
        "print(sorted_arr) #output [11, 12, 22, 25, 34, 64, 90]"
      ]
    },
    {
      "cell_type": "markdown",
      "id": "741cc034",
      "metadata": {
        "id": "741cc034"
      },
      "source": [
        "Ch 4"
      ]
    },
    {
      "cell_type": "code",
      "execution_count": null,
      "id": "e8e10b88",
      "metadata": {
        "id": "e8e10b88",
        "outputId": "505f06f2-d1bb-4340-d196-eb7e45a9fdfb"
      },
      "outputs": [
        {
          "name": "stdout",
          "output_type": "stream",
          "text": [
            "[11, 12, 22, 25, 34, 64, 90]\n"
          ]
        }
      ],
      "source": [
        "def recursive_insertion_sort(arr, n=None):\n",
        "    \"\"\"\n",
        "    Recursively sorts an array using the Insertion Sort algorithm.\n",
        "\n",
        "    Parameters:\n",
        "    arr (list): The list of numbers to be sorted.\n",
        "    n (int, optional): The number of elements to consider in each recursive call.\n",
        "                       Defaults to the length of the array.\n",
        "\n",
        "    Returns:\n",
        "    list: The sorted version of the input array.\n",
        "    \"\"\"\n",
        "    if n is None:\n",
        "        n = len(arr)  # Set n to the initial length of the array\n",
        "\n",
        "    # Base case: if there's only one element, return the array\n",
        "    if n <= 1:\n",
        "        return arr\n",
        "\n",
        "    # Recursively sort the first (n-1) elements\n",
        "    recursive_insertion_sort(arr, n - 1)\n",
        "\n",
        "    # Insert the last element into its correct position\n",
        "    key = arr[n - 1]\n",
        "    j = n - 2\n",
        "\n",
        "    # Shift elements to the right to make space for key\n",
        "    while j >= 0 and arr[j] > key:\n",
        "        arr[j + 1] = arr[j]\n",
        "        j -= 1\n",
        "    arr[j + 1] = key  # Place key in its correct position\n",
        "\n",
        "    return arr  # Return the sorted array\n",
        "\n",
        "# Example usage:\n",
        "arr = [64, 34, 25, 12, 22, 11, 90]\n",
        "print(recursive_insertion_sort(arr))  # Output: [11, 12, 22, 25, 34, 64, 90]"
      ]
    },
    {
      "cell_type": "markdown",
      "id": "bfd25b05",
      "metadata": {
        "id": "bfd25b05"
      },
      "source": [
        "Ch 5"
      ]
    },
    {
      "cell_type": "code",
      "execution_count": null,
      "id": "9ce8adf2",
      "metadata": {
        "id": "9ce8adf2"
      },
      "outputs": [],
      "source": [
        "def recursive_merge_sort(arr):\n",
        "    \"\"\"\n",
        "    Recursively sorts an array using the Merge Sort algorithm.\n",
        "\n",
        "    Parameters:\n",
        "    arr (list): The list of numbers to be sorted.\n",
        "\n",
        "    Returns:\n",
        "    list: The sorted version of the input array.\n",
        "    \"\"\"\n",
        "    # Base case: if the array has one or zero elements, it's already sorted\n",
        "    if len(arr) <= 1:\n",
        "        return arr\n",
        "\n",
        "    # Find the middle index\n",
        "    mid = len(arr) // 2\n",
        "\n",
        "    # Recursively sort the left and right halves\n",
        "    left_half = recursive_merge_sort(arr[:mid])\n",
        "    right_half = recursive_merge_sort(arr[mid:])\n",
        "\n",
        "    # Merge the sorted halves\n",
        "    return merge(left_half, right_half)"
      ]
    },
    {
      "cell_type": "code",
      "execution_count": null,
      "id": "9314d39a",
      "metadata": {
        "id": "9314d39a",
        "outputId": "aed6047e-400c-4872-fcb4-46d90f158510"
      },
      "outputs": [
        {
          "name": "stdout",
          "output_type": "stream",
          "text": [
            "[11, 12, 22, 25, 34, 64, 90]\n"
          ]
        }
      ],
      "source": [
        "def merge(left, right):\n",
        "    \"\"\"\n",
        "    Merges two sorted lists into a single sorted list.\n",
        "\n",
        "    Parameters:\n",
        "    left (list): The sorted left half.\n",
        "    right (list): The sorted right half.\n",
        "\n",
        "    Returns:\n",
        "    list: A merged and sorted list.\n",
        "    \"\"\"\n",
        "    sorted_arr = []\n",
        "    i = j = 0\n",
        "\n",
        "    # Merge elements from left and right halves in sorted order\n",
        "    while i < len(left) and j < len(right):\n",
        "        if left[i] < right[j]:\n",
        "            sorted_arr.append(left[i])\n",
        "            i += 1\n",
        "        else:\n",
        "            sorted_arr.append(right[j])\n",
        "            j += 1\n",
        "\n",
        "    # Append any remaining elements from left and right halves\n",
        "    sorted_arr.extend(left[i:])\n",
        "    sorted_arr.extend(right[j:])\n",
        "\n",
        "    return sorted_arr\n",
        "\n",
        "# Example usage:\n",
        "arr = [64, 34, 25, 12, 22, 11, 90]\n",
        "print(recursive_merge_sort(arr))  # Output: [11, 12, 22, 25, 34, 64, 90]"
      ]
    },
    {
      "cell_type": "markdown",
      "id": "44a0ac49",
      "metadata": {
        "id": "44a0ac49"
      },
      "source": [
        "Ch 6"
      ]
    },
    {
      "cell_type": "code",
      "execution_count": null,
      "id": "39b48793",
      "metadata": {
        "id": "39b48793",
        "outputId": "43f043c7-e36b-4fb0-e255-c45ca229feea"
      },
      "outputs": [
        {
          "name": "stdout",
          "output_type": "stream",
          "text": [
            "[11, 12, 22, 25, 34, 64, 90]\n"
          ]
        }
      ],
      "source": [
        "def recursive_quick_sort(arr):\n",
        "    \"\"\"\n",
        "    Recursively sorts an array using the Quick Sort algorithm.\n",
        "\n",
        "    Parameters:\n",
        "    arr (list): The list of numbers to be sorted.\n",
        "\n",
        "    Returns:\n",
        "    list: The sorted version of the input array.\n",
        "    \"\"\"\n",
        "    # Base case: if the array has one or zero elements, it's already sorted\n",
        "    if len(arr) <= 1:\n",
        "        return arr\n",
        "\n",
        "    # Choose a pivot (using the last element for simplicity)\n",
        "    pivot = arr[-1]\n",
        "\n",
        "    # Partition the array into three parts\n",
        "    left = [x for x in arr[:-1] if x <= pivot]  # Elements less than or equal to pivot\n",
        "    right = [x for x in arr[:-1] if x > pivot]  # Elements greater than pivot\n",
        "\n",
        "    # Recursively sort the left and right parts and combine with pivot\n",
        "    return recursive_quick_sort(left) + [pivot] + recursive_quick_sort(right)\n",
        "\n",
        "# Example usage:\n",
        "arr = [64, 34, 25, 12, 22, 11, 90]\n",
        "print(recursive_quick_sort(arr))  # Output: [11, 12, 22, 25, 34, 64, 90]"
      ]
    },
    {
      "cell_type": "markdown",
      "id": "66c5c956",
      "metadata": {
        "id": "66c5c956"
      },
      "source": [
        "Ch 7"
      ]
    },
    {
      "cell_type": "code",
      "execution_count": null,
      "id": "22d56f09",
      "metadata": {
        "id": "22d56f09"
      },
      "outputs": [],
      "source": [
        "def recursive_heap_sort(arr, n=None):\n",
        "    \"\"\"\n",
        "    Recursively sorts an array using the Heap Sort algorithm.\n",
        "\n",
        "    Parameters:\n",
        "    arr (list): The list of numbers to be sorted.\n",
        "    n (int, optional): The number of elements to consider in each recursive call.\n",
        "                       Defaults to the length of the array.\n",
        "\n",
        "    Returns:\n",
        "    list: The sorted version of the input array.\n",
        "    \"\"\"\n",
        "    if n is None:\n",
        "        n = len(arr)  # Set n to the initial length of the array\n",
        "        # Build max heap (rearrange array)\n",
        "        for i in range(n // 2 - 1, -1, -1):\n",
        "            heapify(arr, n, i)\n",
        "\n",
        "    # Base case: if only one element remains, return the sorted array\n",
        "    if n <= 1:\n",
        "        return arr\n",
        "\n",
        "    # Swap the root (maximum value) with the last element\n",
        "    arr[0], arr[n - 1] = arr[n - 1], arr[0]\n",
        "\n",
        "    # Heapify the reduced heap recursively\n",
        "    heapify(arr, n - 1, 0)\n",
        "\n",
        "    # Recursively sort the remaining elements\n",
        "    return recursive_heap_sort(arr, n - 1)"
      ]
    },
    {
      "cell_type": "code",
      "execution_count": null,
      "id": "37ddbbab",
      "metadata": {
        "id": "37ddbbab",
        "outputId": "02801479-8a96-4601-b76d-c710c164a034"
      },
      "outputs": [
        {
          "name": "stdout",
          "output_type": "stream",
          "text": [
            "[11, 12, 22, 25, 34, 64, 90]\n"
          ]
        }
      ],
      "source": [
        "def heapify(arr, n, i):\n",
        "    \"\"\"\n",
        "    Maintains the heap property for a subtree rooted at index i.\n",
        "\n",
        "    Parameters:\n",
        "    arr (list): The list of numbers.\n",
        "    n (int): The size of the heap.\n",
        "    i (int): The index of the root of the subtree.\n",
        "\n",
        "    Returns:\n",
        "    None (modifies the array in place).\n",
        "    \"\"\"\n",
        "    largest = i  # Assume the root is the largest\n",
        "    left = 2 * i + 1  # Left child index\n",
        "    right = 2 * i + 2  # Right child index\n",
        "\n",
        "    # Check if left child exists and is greater than root\n",
        "    if left < n and arr[left] > arr[largest]:\n",
        "        largest = left\n",
        "\n",
        "    # Check if right child exists and is greater than current largest\n",
        "    if right < n and arr[right] > arr[largest]:\n",
        "        largest = right\n",
        "\n",
        "    # If largest is not root, swap and continue heapifying\n",
        "    if largest != i:\n",
        "        arr[i], arr[largest] = arr[largest], arr[i]  # Swap\n",
        "        heapify(arr, n, largest)  # Heapify the affected subtree\n",
        "\n",
        "# Example usage:\n",
        "arr = [64, 34, 25, 12, 22, 11, 90]\n",
        "print(recursive_heap_sort(arr))  # Output: [11, 12, 22, 25, 34, 64, 90]"
      ]
    },
    {
      "cell_type": "markdown",
      "id": "d0df0f40",
      "metadata": {
        "id": "d0df0f40"
      },
      "source": [
        "Ch 9"
      ]
    },
    {
      "cell_type": "code",
      "execution_count": null,
      "id": "de975f71",
      "metadata": {
        "id": "de975f71",
        "outputId": "f8443bd5-2e9e-4559-bacb-a382c1dc3c56"
      },
      "outputs": [
        {
          "name": "stdout",
          "output_type": "stream",
          "text": [
            "4\n"
          ]
        }
      ],
      "source": [
        "def recursive_linear_search(arr, target, index=0):\n",
        "    \"\"\"\n",
        "    Recursively searches for a target element in an array using Linear Search.\n",
        "\n",
        "    Parameters:\n",
        "    arr (list): The list of elements to search through.\n",
        "    target (any): The value to search for.\n",
        "    index (int, optional): The current index in the array. Defaults to 0.\n",
        "\n",
        "    Returns:\n",
        "    int: The index of the target element if found, otherwise -1.\n",
        "    \"\"\"\n",
        "    # Base case: If the index reaches the length of the array, the target is not found\n",
        "    if index >= len(arr):\n",
        "        return -1\n",
        "\n",
        "    # If the current element matches the target, return the index\n",
        "    if arr[index] == target:\n",
        "        return index\n",
        "\n",
        "    # Recur with the next index\n",
        "    return recursive_linear_search(arr, target, index + 1)\n",
        "\n",
        "# Example usage\n",
        "arr = [64, 34, 25, 12, 22, 11, 90]\n",
        "target = 22\n",
        "result = recursive_linear_search(arr, target)\n",
        "print(result)  # Output: 4 (index of target)"
      ]
    },
    {
      "cell_type": "markdown",
      "id": "31edbeac",
      "metadata": {
        "id": "31edbeac"
      },
      "source": [
        "Ch 10"
      ]
    },
    {
      "cell_type": "code",
      "execution_count": null,
      "id": "b1e2c789",
      "metadata": {
        "id": "b1e2c789",
        "outputId": "9675e98c-164d-4630-d786-d4fcb3fc9ff4"
      },
      "outputs": [
        {
          "name": "stdout",
          "output_type": "stream",
          "text": [
            "2\n"
          ]
        }
      ],
      "source": [
        "def recursive_binary_search(arr, target, left=0, right=None):\n",
        "    \"\"\"\n",
        "    Recursively searches for a target element in a sorted array using Binary Search.\n",
        "\n",
        "    Parameters:\n",
        "    arr (list): The sorted list of elements to search through.\n",
        "    target (any): The value to search for.\n",
        "    left (int, optional): The left index of the search range. Defaults to 0.\n",
        "    right (int, optional): The right index of the search range. Defaults to None.\n",
        "\n",
        "    Returns:\n",
        "    int: The index of the target element if found, otherwise -1.\n",
        "    \"\"\"\n",
        "    # Initialize right index on the first call\n",
        "    if right is None:\n",
        "        right = len(arr) - 1\n",
        "\n",
        "    # Base case: If the range is invalid, the target is not found\n",
        "    if left > right:\n",
        "        return -1\n",
        "\n",
        "    # Find the middle index\n",
        "    mid = (left + right) // 2\n",
        "\n",
        "    # If the middle element matches the target, return its index\n",
        "    if arr[mid] == target:\n",
        "        return mid\n",
        "\n",
        "    # If the target is smaller, search the left half\n",
        "    if target < arr[mid]:\n",
        "        return recursive_binary_search(arr, target, left, mid - 1)\n",
        "\n",
        "    # If the target is larger, search the right half\n",
        "    return binary_search_recursive(arr, target, mid + 1, right)\n",
        "\n",
        "# Example usage\n",
        "arr = [11, 12, 22, 25, 34, 64, 90]  # Sorted array\n",
        "target = 22\n",
        "result = recursive_binary_search(arr, target)\n",
        "print(result)  # Output: 2 (index of target)"
      ]
    },
    {
      "cell_type": "markdown",
      "id": "d096da43",
      "metadata": {
        "id": "d096da43"
      },
      "source": [
        "Ch 11"
      ]
    },
    {
      "cell_type": "code",
      "execution_count": null,
      "id": "fac03a98",
      "metadata": {
        "id": "fac03a98",
        "outputId": "eb428d5f-d45c-41ba-bc43-7ebf95249cf7"
      },
      "outputs": [
        {
          "name": "stdout",
          "output_type": "stream",
          "text": [
            "2\n"
          ]
        }
      ],
      "source": [
        "import math\n",
        "\n",
        "def recursive_jump_search(arr, target, step=None, prev=0):\n",
        "    \"\"\"\n",
        "    Recursively searches for a target element in a sorted array using Jump Search.\n",
        "\n",
        "    Parameters:\n",
        "    arr (list): The sorted list of elements to search through.\n",
        "    target (any): The value to search for.\n",
        "    step (int, optional): The jump step size. Defaults to sqrt(len(arr)).\n",
        "    prev (int, optional): The previous index before the current jump. Defaults to 0.\n",
        "\n",
        "    Returns:\n",
        "    int: The index of the target element if found, otherwise -1.\n",
        "    \"\"\"\n",
        "    # Initialize step size on the first call\n",
        "    if step is None:\n",
        "        step = int(math.sqrt(len(arr)))\n",
        "\n",
        "    # Base case: If prev exceeds the array length, target is not found\n",
        "    if prev >= len(arr):\n",
        "        return -1\n",
        "\n",
        "    # If the current step exceeds the length, set it to the last index\n",
        "    next_step = min(prev + step, len(arr))\n",
        "\n",
        "    # If the target is within this block, perform linear search\n",
        "    if arr[next_step - 1] >= target:\n",
        "        for i in range(prev, next_step):\n",
        "            if arr[i] == target:\n",
        "                return i\n",
        "        return -1  # Target not found in the block\n",
        "\n",
        "    # Recur with the next jump\n",
        "    return recursive_jump_search(arr, target, step, next_step)\n",
        "\n",
        "# Example usage\n",
        "arr = [11, 12, 22, 25, 34, 64, 90]  # Sorted array\n",
        "target = 22\n",
        "result = recursive_jump_search(arr, target)\n",
        "print(result)  # Output: 2 (index of target)"
      ]
    },
    {
      "cell_type": "markdown",
      "id": "20d1f9b6",
      "metadata": {
        "id": "20d1f9b6"
      },
      "source": [
        "Ch 12"
      ]
    },
    {
      "cell_type": "code",
      "execution_count": null,
      "id": "a2434c13",
      "metadata": {
        "id": "a2434c13",
        "outputId": "6e0bb809-d919-45f3-8e33-f4a6b45ea4e7"
      },
      "outputs": [
        {
          "name": "stdout",
          "output_type": "stream",
          "text": [
            "2\n"
          ]
        }
      ],
      "source": [
        "def recursive_interpolation_search(arr, target, low=0, high=None):\n",
        "    \"\"\"\n",
        "    Recursively searches for a target element in a sorted array using Interpolation Search.\n",
        "\n",
        "    Parameters:\n",
        "    arr (list): The sorted list of elements to search through.\n",
        "    target (any): The value to search for.\n",
        "    low (int, optional): The lower index of the search range. Defaults to 0.\n",
        "    high (int, optional): The upper index of the search range. Defaults to len(arr) - 1.\n",
        "\n",
        "    Returns:\n",
        "    int: The index of the target element if found, otherwise -1.\n",
        "    \"\"\"\n",
        "    # Initialize high index on the first call\n",
        "    if high is None:\n",
        "        high = len(arr) - 1\n",
        "\n",
        "    # Base case: If the search range is invalid, the target is not found\n",
        "    if low > high or arr[low] > target or arr[high] < target:\n",
        "        return -1\n",
        "\n",
        "    # Estimate the probable position using interpolation formula\n",
        "    if arr[low] != arr[high]:  # Avoid division by zero\n",
        "        pos = low + ((target - arr[low]) * (high - low) // (arr[high] - arr[low]))\n",
        "    else:\n",
        "        pos = low  # If all values are the same, position is the lower bound\n",
        "\n",
        "    # If the position is out of bounds, return -1\n",
        "    if pos < low or pos > high:\n",
        "        return -1\n",
        "\n",
        "    # If the target is found at pos, return index\n",
        "    if arr[pos] == target:\n",
        "        return pos\n",
        "\n",
        "    # If the target is smaller, search in the left subarray\n",
        "    if arr[pos] > target:\n",
        "        return recursive_interpolation_search(arr, target, low, pos - 1)\n",
        "\n",
        "    # If the target is larger, search in the right subarray\n",
        "    return recursive_interpolation_search(arr, target, pos + 1, high)\n",
        "\n",
        "# Example usage\n",
        "arr = [11, 12, 22, 25, 34, 64, 90]  # Sorted array\n",
        "target = 22\n",
        "result = recursive_interpolation_search(arr, target)\n",
        "print(result)  # Output: 2 (index of target)"
      ]
    },
    {
      "cell_type": "markdown",
      "id": "b0071f4b",
      "metadata": {
        "id": "b0071f4b"
      },
      "source": [
        "Ch 13"
      ]
    },
    {
      "cell_type": "code",
      "execution_count": null,
      "id": "99612a55",
      "metadata": {
        "id": "99612a55"
      },
      "outputs": [],
      "source": [
        "def recursive_binary_search(arr, target, left, right):\n",
        "    \"\"\"\n",
        "    Recursively searches for a target element in a sorted recursive_binary_searchch.\n",
        "\n",
        "    Parameters:\n",
        "    arr (list): The sorted list of elements to search through.\n",
        "    target (any): The value to search for.\n",
        "    left (int): The left index of the search range.\n",
        "    right (int): The right index of the search range.\n",
        "\n",
        "    Returns:\n",
        "    int: The index of the target element if found, otherwise -1.\n",
        "    \"\"\"\n",
        "    # Base case: If the range is invalid, the target is not found\n",
        "    if left > right:\n",
        "        return -1\n",
        "\n",
        "    # Find the middle index\n",
        "    mid = (left + right) // 2\n",
        "\n",
        "    # If the middle element matches the target, return its index\n",
        "    if arr[mid] == target:\n",
        "        return mid\n",
        "\n",
        "    # If the target is smaller, search the left half\n",
        "    if target < arr[mid]:\n",
        "        return recursive_binary_search(arr, target, left, mid - 1)\n",
        "\n",
        "    # If the target is larger, search the right half\n",
        "    return recursive_binary_search(arr, target, mid + 1, right)"
      ]
    },
    {
      "cell_type": "code",
      "execution_count": null,
      "id": "5279559b",
      "metadata": {
        "id": "5279559b",
        "outputId": "ff47f6f7-6162-444a-93e7-86ee8cd6784b"
      },
      "outputs": [
        {
          "name": "stdout",
          "output_type": "stream",
          "text": [
            "2\n"
          ]
        }
      ],
      "source": [
        "def recursive_exponential_search(arr, target, bound=1):\n",
        "    \"\"\"\n",
        "    Recursively searches for a target element in a sorted array using Exponential Search.\n",
        "\n",
        "    Parameters:\n",
        "    arr (list): The sorted list of elements to search through.\n",
        "    target (any): The value to search for.\n",
        "    bound (int, optional): The search bound, which starts at 1 and grows exponentially.\n",
        "\n",
        "    Returns:\n",
        "    int: The index of the target element if found, otherwise -1.\n",
        "    \"\"\"\n",
        "    # Base case: If the bound exceeds array length, perform binary search in the last valid range\n",
        "    if bound >= len(arr):\n",
        "        return recursive_binary_search(arr, target, bound // 2, len(arr) - 1)\n",
        "\n",
        "    # If the target is within this bound, perform binary search in the previous range\n",
        "    if arr[bound] >= target:\n",
        "        return recursive_binary_search(arr, target, bound // 2, bound)\n",
        "\n",
        "    # Recur with a doubled bound\n",
        "    return exponential_search_recursive(arr, target, bound * 2)\n",
        "\n",
        "\n",
        "# Example usage\n",
        "arr = [11, 12, 22, 25, 34, 64, 90]  # Sorted array\n",
        "target = 22\n",
        "result = recursive_exponential_search(arr, target)\n",
        "print(result)  # Output: 2 (index of target)"
      ]
    },
    {
      "cell_type": "markdown",
      "id": "8f8747f3",
      "metadata": {
        "id": "8f8747f3"
      },
      "source": [
        "ch14"
      ]
    },
    {
      "cell_type": "code",
      "execution_count": null,
      "id": "a69df644",
      "metadata": {
        "id": "a69df644",
        "outputId": "003f0442-77f3-47bc-8f61-01801f3a9e98"
      },
      "outputs": [
        {
          "name": "stdout",
          "output_type": "stream",
          "text": [
            "Target 22 found at index 0 in bucket 1.\n"
          ]
        }
      ],
      "source": [
        "def hash_function(key, size):\n",
        "    return ord(key) % size\n",
        "\n",
        "def recursive_hash_search(table, key, target, index=0):\n",
        "    \"\"\"\n",
        "    Recursively searches for a target element in a hash table using chaining.\n",
        "\n",
        "    Returns:\n",
        "    int: The index of the target element in the bucket if found, otherwise -1.\n",
        "    \"\"\"\n",
        "    hash_index = hash_function(key, len(table))\n",
        "    bucket = table.get(hash_index, [])\n",
        "\n",
        "    if index >= len(bucket):\n",
        "        return -1\n",
        "\n",
        "    if bucket[index] == target:\n",
        "        return index\n",
        "\n",
        "    return recursive_hash_search(table, key, target, index + 1)\n",
        "\n",
        "# Data setup\n",
        "keys = ['a', 'b', 'c', 'd', 'e', 'f', 'g']\n",
        "values = [64, 34, 25, 12, 22, 11, 90]\n",
        "table_size = 10\n",
        "hash_table = {i: [] for i in range(table_size)}\n",
        "\n",
        "# Insert values into hash table using character keys\n",
        "for key, value in zip(keys, values):\n",
        "    idx = hash_function(key, table_size)\n",
        "    hash_table[idx].append(value)\n",
        "\n",
        "# Example search\n",
        "target = 22\n",
        "key = 'e'\n",
        "result = recursive_hash_search(hash_table, key, target)\n",
        "\n",
        "# Output result\n",
        "if result != -1:\n",
        "    print(f\"Target {target} found at index {result} in bucket {hash_function(key, table_size)}.\")\n",
        "else:\n",
        "    print(f\"Target {target} not found in bucket {hash_function(key, table_size)}.\")"
      ]
    },
    {
      "cell_type": "code",
      "execution_count": null,
      "id": "16659175",
      "metadata": {
        "id": "16659175",
        "outputId": "0e9aa9c5-3f41-42bb-8281-4a93729d1702"
      },
      "outputs": [
        {
          "data": {
            "text/plain": [
              "{0: [12],\n",
              " 1: [22],\n",
              " 2: [11],\n",
              " 3: [90],\n",
              " 4: [],\n",
              " 5: [],\n",
              " 6: [],\n",
              " 7: [64],\n",
              " 8: [34],\n",
              " 9: [25]}"
            ]
          },
          "execution_count": 32,
          "metadata": {},
          "output_type": "execute_result"
        }
      ],
      "source": [
        "hash_table"
      ]
    },
    {
      "cell_type": "code",
      "execution_count": null,
      "id": "854377b7",
      "metadata": {
        "id": "854377b7",
        "outputId": "43334774-67ad-4396-d00a-ac36b87ccf60"
      },
      "outputs": [
        {
          "data": {
            "text/plain": [
              "dict"
            ]
          },
          "execution_count": 33,
          "metadata": {},
          "output_type": "execute_result"
        }
      ],
      "source": [
        "type(hash_table)\n"
      ]
    }
  ],
  "metadata": {
    "kernelspec": {
      "display_name": "finance_py37",
      "language": "python",
      "name": "finance_py37"
    },
    "language_info": {
      "codemirror_mode": {
        "name": "ipython",
        "version": 3
      },
      "file_extension": ".py",
      "mimetype": "text/x-python",
      "name": "python",
      "nbconvert_exporter": "python",
      "pygments_lexer": "ipython3",
      "version": "3.7.7"
    },
    "colab": {
      "provenance": []
    }
  },
  "nbformat": 4,
  "nbformat_minor": 5
}